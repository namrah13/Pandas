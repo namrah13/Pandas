{
 "cells": [
  {
   "cell_type": "markdown",
   "id": "aa36a60b",
   "metadata": {
    "papermill": {
     "duration": 0.023793,
     "end_time": "2022-04-20T16:15:18.561844",
     "exception": false,
     "start_time": "2022-04-20T16:15:18.538051",
     "status": "completed"
    },
    "tags": []
   },
   "source": [
    "**This notebook is an exercise in the [Pandas](https://www.kaggle.com/learn/pandas) course.  You can reference the tutorial at [this link](https://www.kaggle.com/residentmario/summary-functions-and-maps).**\n",
    "\n",
    "---\n"
   ]
  },
  {
   "cell_type": "markdown",
   "id": "c9394c50",
   "metadata": {
    "papermill": {
     "duration": 0.022317,
     "end_time": "2022-04-20T16:15:18.607059",
     "exception": false,
     "start_time": "2022-04-20T16:15:18.584742",
     "status": "completed"
    },
    "tags": []
   },
   "source": [
    "# Introduction\n",
    "\n",
    "Now you are ready to get a deeper understanding of your data.\n",
    "\n",
    "Run the following cell to load your data and some utility functions (including code to check your answers)."
   ]
  },
  {
   "cell_type": "code",
   "execution_count": 1,
   "id": "bb8cf553",
   "metadata": {
    "execution": {
     "iopub.execute_input": "2022-04-20T16:15:18.654036Z",
     "iopub.status.busy": "2022-04-20T16:15:18.653710Z",
     "iopub.status.idle": "2022-04-20T16:15:26.578573Z",
     "shell.execute_reply": "2022-04-20T16:15:26.577534Z"
    },
    "papermill": {
     "duration": 7.952724,
     "end_time": "2022-04-20T16:15:26.582463",
     "exception": false,
     "start_time": "2022-04-20T16:15:18.629739",
     "status": "completed"
    },
    "tags": []
   },
   "outputs": [
    {
     "name": "stdout",
     "output_type": "stream",
     "text": [
      "Setup complete.\n"
     ]
    },
    {
     "data": {
      "text/html": [
       "<div>\n",
       "<style scoped>\n",
       "    .dataframe tbody tr th:only-of-type {\n",
       "        vertical-align: middle;\n",
       "    }\n",
       "\n",
       "    .dataframe tbody tr th {\n",
       "        vertical-align: top;\n",
       "    }\n",
       "\n",
       "    .dataframe thead th {\n",
       "        text-align: right;\n",
       "    }\n",
       "</style>\n",
       "<table border=\"1\" class=\"dataframe\">\n",
       "  <thead>\n",
       "    <tr style=\"text-align: right;\">\n",
       "      <th></th>\n",
       "      <th>country</th>\n",
       "      <th>description</th>\n",
       "      <th>designation</th>\n",
       "      <th>points</th>\n",
       "      <th>price</th>\n",
       "      <th>province</th>\n",
       "      <th>region_1</th>\n",
       "      <th>region_2</th>\n",
       "      <th>taster_name</th>\n",
       "      <th>taster_twitter_handle</th>\n",
       "      <th>title</th>\n",
       "      <th>variety</th>\n",
       "      <th>winery</th>\n",
       "    </tr>\n",
       "  </thead>\n",
       "  <tbody>\n",
       "    <tr>\n",
       "      <th>0</th>\n",
       "      <td>Italy</td>\n",
       "      <td>Aromas include tropical fruit, broom, brimston...</td>\n",
       "      <td>Vulkà Bianco</td>\n",
       "      <td>87</td>\n",
       "      <td>NaN</td>\n",
       "      <td>Sicily &amp; Sardinia</td>\n",
       "      <td>Etna</td>\n",
       "      <td>NaN</td>\n",
       "      <td>Kerin O’Keefe</td>\n",
       "      <td>@kerinokeefe</td>\n",
       "      <td>Nicosia 2013 Vulkà Bianco  (Etna)</td>\n",
       "      <td>White Blend</td>\n",
       "      <td>Nicosia</td>\n",
       "    </tr>\n",
       "    <tr>\n",
       "      <th>1</th>\n",
       "      <td>Portugal</td>\n",
       "      <td>This is ripe and fruity, a wine that is smooth...</td>\n",
       "      <td>Avidagos</td>\n",
       "      <td>87</td>\n",
       "      <td>15.0</td>\n",
       "      <td>Douro</td>\n",
       "      <td>NaN</td>\n",
       "      <td>NaN</td>\n",
       "      <td>Roger Voss</td>\n",
       "      <td>@vossroger</td>\n",
       "      <td>Quinta dos Avidagos 2011 Avidagos Red (Douro)</td>\n",
       "      <td>Portuguese Red</td>\n",
       "      <td>Quinta dos Avidagos</td>\n",
       "    </tr>\n",
       "    <tr>\n",
       "      <th>2</th>\n",
       "      <td>US</td>\n",
       "      <td>Tart and snappy, the flavors of lime flesh and...</td>\n",
       "      <td>NaN</td>\n",
       "      <td>87</td>\n",
       "      <td>14.0</td>\n",
       "      <td>Oregon</td>\n",
       "      <td>Willamette Valley</td>\n",
       "      <td>Willamette Valley</td>\n",
       "      <td>Paul Gregutt</td>\n",
       "      <td>@paulgwine</td>\n",
       "      <td>Rainstorm 2013 Pinot Gris (Willamette Valley)</td>\n",
       "      <td>Pinot Gris</td>\n",
       "      <td>Rainstorm</td>\n",
       "    </tr>\n",
       "    <tr>\n",
       "      <th>3</th>\n",
       "      <td>US</td>\n",
       "      <td>Pineapple rind, lemon pith and orange blossom ...</td>\n",
       "      <td>Reserve Late Harvest</td>\n",
       "      <td>87</td>\n",
       "      <td>13.0</td>\n",
       "      <td>Michigan</td>\n",
       "      <td>Lake Michigan Shore</td>\n",
       "      <td>NaN</td>\n",
       "      <td>Alexander Peartree</td>\n",
       "      <td>NaN</td>\n",
       "      <td>St. Julian 2013 Reserve Late Harvest Riesling ...</td>\n",
       "      <td>Riesling</td>\n",
       "      <td>St. Julian</td>\n",
       "    </tr>\n",
       "    <tr>\n",
       "      <th>4</th>\n",
       "      <td>US</td>\n",
       "      <td>Much like the regular bottling from 2012, this...</td>\n",
       "      <td>Vintner's Reserve Wild Child Block</td>\n",
       "      <td>87</td>\n",
       "      <td>65.0</td>\n",
       "      <td>Oregon</td>\n",
       "      <td>Willamette Valley</td>\n",
       "      <td>Willamette Valley</td>\n",
       "      <td>Paul Gregutt</td>\n",
       "      <td>@paulgwine</td>\n",
       "      <td>Sweet Cheeks 2012 Vintner's Reserve Wild Child...</td>\n",
       "      <td>Pinot Noir</td>\n",
       "      <td>Sweet Cheeks</td>\n",
       "    </tr>\n",
       "  </tbody>\n",
       "</table>\n",
       "</div>"
      ],
      "text/plain": [
       "    country                                        description  \\\n",
       "0     Italy  Aromas include tropical fruit, broom, brimston...   \n",
       "1  Portugal  This is ripe and fruity, a wine that is smooth...   \n",
       "2        US  Tart and snappy, the flavors of lime flesh and...   \n",
       "3        US  Pineapple rind, lemon pith and orange blossom ...   \n",
       "4        US  Much like the regular bottling from 2012, this...   \n",
       "\n",
       "                          designation  points  price           province  \\\n",
       "0                        Vulkà Bianco      87    NaN  Sicily & Sardinia   \n",
       "1                            Avidagos      87   15.0              Douro   \n",
       "2                                 NaN      87   14.0             Oregon   \n",
       "3                Reserve Late Harvest      87   13.0           Michigan   \n",
       "4  Vintner's Reserve Wild Child Block      87   65.0             Oregon   \n",
       "\n",
       "              region_1           region_2         taster_name  \\\n",
       "0                 Etna                NaN       Kerin O’Keefe   \n",
       "1                  NaN                NaN          Roger Voss   \n",
       "2    Willamette Valley  Willamette Valley        Paul Gregutt   \n",
       "3  Lake Michigan Shore                NaN  Alexander Peartree   \n",
       "4    Willamette Valley  Willamette Valley        Paul Gregutt   \n",
       "\n",
       "  taster_twitter_handle                                              title  \\\n",
       "0          @kerinokeefe                  Nicosia 2013 Vulkà Bianco  (Etna)   \n",
       "1            @vossroger      Quinta dos Avidagos 2011 Avidagos Red (Douro)   \n",
       "2           @paulgwine       Rainstorm 2013 Pinot Gris (Willamette Valley)   \n",
       "3                   NaN  St. Julian 2013 Reserve Late Harvest Riesling ...   \n",
       "4           @paulgwine   Sweet Cheeks 2012 Vintner's Reserve Wild Child...   \n",
       "\n",
       "          variety               winery  \n",
       "0     White Blend              Nicosia  \n",
       "1  Portuguese Red  Quinta dos Avidagos  \n",
       "2      Pinot Gris            Rainstorm  \n",
       "3        Riesling           St. Julian  \n",
       "4      Pinot Noir         Sweet Cheeks  "
      ]
     },
     "execution_count": 1,
     "metadata": {},
     "output_type": "execute_result"
    }
   ],
   "source": [
    "import pandas as pd\n",
    "pd.set_option(\"display.max_rows\", 5)\n",
    "reviews = pd.read_csv(\"../input/wine-reviews/winemag-data-130k-v2.csv\", index_col=0)\n",
    "\n",
    "from learntools.core import binder; binder.bind(globals())\n",
    "from learntools.pandas.summary_functions_and_maps import *\n",
    "print(\"Setup complete.\")\n",
    "\n",
    "reviews.head()"
   ]
  },
  {
   "cell_type": "markdown",
   "id": "25f625f7",
   "metadata": {
    "papermill": {
     "duration": 0.02365,
     "end_time": "2022-04-20T16:15:26.630346",
     "exception": false,
     "start_time": "2022-04-20T16:15:26.606696",
     "status": "completed"
    },
    "tags": []
   },
   "source": [
    "# Exercises"
   ]
  },
  {
   "cell_type": "markdown",
   "id": "d2f332f5",
   "metadata": {
    "papermill": {
     "duration": 0.023537,
     "end_time": "2022-04-20T16:15:26.677867",
     "exception": false,
     "start_time": "2022-04-20T16:15:26.654330",
     "status": "completed"
    },
    "tags": []
   },
   "source": [
    "## 1.\n",
    "\n",
    "What is the median of the `points` column in the `reviews` DataFrame?"
   ]
  },
  {
   "cell_type": "code",
   "execution_count": 2,
   "id": "ea9fea3a",
   "metadata": {
    "execution": {
     "iopub.execute_input": "2022-04-20T16:15:26.727375Z",
     "iopub.status.busy": "2022-04-20T16:15:26.727111Z",
     "iopub.status.idle": "2022-04-20T16:15:26.737596Z",
     "shell.execute_reply": "2022-04-20T16:15:26.736730Z"
    },
    "papermill": {
     "duration": 0.037818,
     "end_time": "2022-04-20T16:15:26.739565",
     "exception": false,
     "start_time": "2022-04-20T16:15:26.701747",
     "status": "completed"
    },
    "tags": []
   },
   "outputs": [
    {
     "data": {
      "application/javascript": [
       "parent.postMessage({\"jupyterEvent\": \"custom.exercise_interaction\", \"data\": {\"outcomeType\": 1, \"valueTowardsCompletion\": 0.14285714285714285, \"interactionType\": 1, \"questionType\": 1, \"questionId\": \"1_MedianPoints\", \"learnToolsVersion\": \"0.3.4\", \"failureMessage\": \"\", \"exceptionClass\": \"\", \"trace\": \"\"}}, \"*\")"
      ],
      "text/plain": [
       "<IPython.core.display.Javascript object>"
      ]
     },
     "metadata": {},
     "output_type": "display_data"
    },
    {
     "data": {
      "text/markdown": [
       "<span style=\"color:#33cc33\">Correct</span>"
      ],
      "text/plain": [
       "Correct"
      ]
     },
     "metadata": {},
     "output_type": "display_data"
    }
   ],
   "source": [
    "median_points = reviews.points.median()\n",
    "\n",
    "# Check your answer\n",
    "q1.check()"
   ]
  },
  {
   "cell_type": "code",
   "execution_count": 3,
   "id": "2814034f",
   "metadata": {
    "execution": {
     "iopub.execute_input": "2022-04-20T16:15:26.791929Z",
     "iopub.status.busy": "2022-04-20T16:15:26.791643Z",
     "iopub.status.idle": "2022-04-20T16:15:26.795288Z",
     "shell.execute_reply": "2022-04-20T16:15:26.794417Z"
    },
    "papermill": {
     "duration": 0.031737,
     "end_time": "2022-04-20T16:15:26.797317",
     "exception": false,
     "start_time": "2022-04-20T16:15:26.765580",
     "status": "completed"
    },
    "tags": []
   },
   "outputs": [],
   "source": [
    "#q1.hint()\n",
    "#q1.solution()"
   ]
  },
  {
   "cell_type": "markdown",
   "id": "8727d387",
   "metadata": {
    "papermill": {
     "duration": 0.024603,
     "end_time": "2022-04-20T16:15:26.850178",
     "exception": false,
     "start_time": "2022-04-20T16:15:26.825575",
     "status": "completed"
    },
    "tags": []
   },
   "source": [
    "## 2. \n",
    "What countries are represented in the dataset? (Your answer should not include any duplicates.)"
   ]
  },
  {
   "cell_type": "code",
   "execution_count": 4,
   "id": "7f2575c0",
   "metadata": {
    "execution": {
     "iopub.execute_input": "2022-04-20T16:15:26.901995Z",
     "iopub.status.busy": "2022-04-20T16:15:26.901416Z",
     "iopub.status.idle": "2022-04-20T16:15:26.921440Z",
     "shell.execute_reply": "2022-04-20T16:15:26.920548Z"
    },
    "papermill": {
     "duration": 0.048266,
     "end_time": "2022-04-20T16:15:26.923357",
     "exception": false,
     "start_time": "2022-04-20T16:15:26.875091",
     "status": "completed"
    },
    "tags": []
   },
   "outputs": [
    {
     "data": {
      "application/javascript": [
       "parent.postMessage({\"jupyterEvent\": \"custom.exercise_interaction\", \"data\": {\"outcomeType\": 1, \"valueTowardsCompletion\": 0.14285714285714285, \"interactionType\": 1, \"questionType\": 2, \"questionId\": \"2_UniqueCountries\", \"learnToolsVersion\": \"0.3.4\", \"failureMessage\": \"\", \"exceptionClass\": \"\", \"trace\": \"\"}}, \"*\")"
      ],
      "text/plain": [
       "<IPython.core.display.Javascript object>"
      ]
     },
     "metadata": {},
     "output_type": "display_data"
    },
    {
     "data": {
      "text/markdown": [
       "<span style=\"color:#33cc33\">Correct</span>"
      ],
      "text/plain": [
       "Correct"
      ]
     },
     "metadata": {},
     "output_type": "display_data"
    }
   ],
   "source": [
    "countries = countries = reviews.country.unique()\n",
    "\n",
    "\n",
    "# Check your answer\n",
    "q2.check()"
   ]
  },
  {
   "cell_type": "code",
   "execution_count": 5,
   "id": "627db9f1",
   "metadata": {
    "execution": {
     "iopub.execute_input": "2022-04-20T16:15:26.977505Z",
     "iopub.status.busy": "2022-04-20T16:15:26.976917Z",
     "iopub.status.idle": "2022-04-20T16:15:26.979875Z",
     "shell.execute_reply": "2022-04-20T16:15:26.979349Z"
    },
    "papermill": {
     "duration": 0.032315,
     "end_time": "2022-04-20T16:15:26.981875",
     "exception": false,
     "start_time": "2022-04-20T16:15:26.949560",
     "status": "completed"
    },
    "tags": []
   },
   "outputs": [],
   "source": [
    "#q2.hint()\n",
    "#q2.solution()"
   ]
  },
  {
   "cell_type": "markdown",
   "id": "83ed6ccd",
   "metadata": {
    "papermill": {
     "duration": 0.025962,
     "end_time": "2022-04-20T16:15:27.035305",
     "exception": false,
     "start_time": "2022-04-20T16:15:27.009343",
     "status": "completed"
    },
    "tags": []
   },
   "source": [
    "## 3.\n",
    "How often does each country appear in the dataset? Create a Series `reviews_per_country` mapping countries to the count of reviews of wines from that country."
   ]
  },
  {
   "cell_type": "code",
   "execution_count": 6,
   "id": "77537c35",
   "metadata": {
    "execution": {
     "iopub.execute_input": "2022-04-20T16:15:27.088821Z",
     "iopub.status.busy": "2022-04-20T16:15:27.088552Z",
     "iopub.status.idle": "2022-04-20T16:15:27.114130Z",
     "shell.execute_reply": "2022-04-20T16:15:27.113522Z"
    },
    "papermill": {
     "duration": 0.054548,
     "end_time": "2022-04-20T16:15:27.115967",
     "exception": false,
     "start_time": "2022-04-20T16:15:27.061419",
     "status": "completed"
    },
    "tags": []
   },
   "outputs": [
    {
     "data": {
      "application/javascript": [
       "parent.postMessage({\"jupyterEvent\": \"custom.exercise_interaction\", \"data\": {\"outcomeType\": 1, \"valueTowardsCompletion\": 0.14285714285714285, \"interactionType\": 1, \"questionType\": 1, \"questionId\": \"3_ReviewsPerCountry\", \"learnToolsVersion\": \"0.3.4\", \"failureMessage\": \"\", \"exceptionClass\": \"\", \"trace\": \"\"}}, \"*\")"
      ],
      "text/plain": [
       "<IPython.core.display.Javascript object>"
      ]
     },
     "metadata": {},
     "output_type": "display_data"
    },
    {
     "data": {
      "text/markdown": [
       "<span style=\"color:#33cc33\">Correct</span>"
      ],
      "text/plain": [
       "Correct"
      ]
     },
     "metadata": {},
     "output_type": "display_data"
    }
   ],
   "source": [
    "reviews_per_country = reviews.country.value_counts()\n",
    "\n",
    "# Check your answer\n",
    "q3.check()"
   ]
  },
  {
   "cell_type": "code",
   "execution_count": 7,
   "id": "29d9c664",
   "metadata": {
    "execution": {
     "iopub.execute_input": "2022-04-20T16:15:27.174023Z",
     "iopub.status.busy": "2022-04-20T16:15:27.173517Z",
     "iopub.status.idle": "2022-04-20T16:15:27.176351Z",
     "shell.execute_reply": "2022-04-20T16:15:27.175802Z"
    },
    "papermill": {
     "duration": 0.033448,
     "end_time": "2022-04-20T16:15:27.178114",
     "exception": false,
     "start_time": "2022-04-20T16:15:27.144666",
     "status": "completed"
    },
    "tags": []
   },
   "outputs": [],
   "source": [
    "#q3.hint()\n",
    "#q3.solution()"
   ]
  },
  {
   "cell_type": "markdown",
   "id": "f159bf33",
   "metadata": {
    "papermill": {
     "duration": 0.02767,
     "end_time": "2022-04-20T16:15:27.233021",
     "exception": false,
     "start_time": "2022-04-20T16:15:27.205351",
     "status": "completed"
    },
    "tags": []
   },
   "source": [
    "## 4.\n",
    "Create variable `centered_price` containing a version of the `price` column with the mean price subtracted.\n",
    "\n",
    "(Note: this 'centering' transformation is a common preprocessing step before applying various machine learning algorithms.) "
   ]
  },
  {
   "cell_type": "code",
   "execution_count": 8,
   "id": "8bdca0e0",
   "metadata": {
    "execution": {
     "iopub.execute_input": "2022-04-20T16:15:27.289341Z",
     "iopub.status.busy": "2022-04-20T16:15:27.288865Z",
     "iopub.status.idle": "2022-04-20T16:15:27.298578Z",
     "shell.execute_reply": "2022-04-20T16:15:27.297595Z"
    },
    "papermill": {
     "duration": 0.040398,
     "end_time": "2022-04-20T16:15:27.300595",
     "exception": false,
     "start_time": "2022-04-20T16:15:27.260197",
     "status": "completed"
    },
    "tags": []
   },
   "outputs": [
    {
     "data": {
      "application/javascript": [
       "parent.postMessage({\"jupyterEvent\": \"custom.exercise_interaction\", \"data\": {\"outcomeType\": 1, \"valueTowardsCompletion\": 0.14285714285714285, \"interactionType\": 1, \"questionType\": 1, \"questionId\": \"4_CenteredPrice\", \"learnToolsVersion\": \"0.3.4\", \"failureMessage\": \"\", \"exceptionClass\": \"\", \"trace\": \"\"}}, \"*\")"
      ],
      "text/plain": [
       "<IPython.core.display.Javascript object>"
      ]
     },
     "metadata": {},
     "output_type": "display_data"
    },
    {
     "data": {
      "text/markdown": [
       "<span style=\"color:#33cc33\">Correct</span>"
      ],
      "text/plain": [
       "Correct"
      ]
     },
     "metadata": {},
     "output_type": "display_data"
    }
   ],
   "source": [
    "centered_price = reviews.price - reviews.price.mean()\n",
    "\n",
    "# Check your answer\n",
    "q4.check()"
   ]
  },
  {
   "cell_type": "code",
   "execution_count": 9,
   "id": "f8df68ac",
   "metadata": {
    "execution": {
     "iopub.execute_input": "2022-04-20T16:15:27.359795Z",
     "iopub.status.busy": "2022-04-20T16:15:27.359267Z",
     "iopub.status.idle": "2022-04-20T16:15:27.363169Z",
     "shell.execute_reply": "2022-04-20T16:15:27.362058Z"
    },
    "papermill": {
     "duration": 0.036055,
     "end_time": "2022-04-20T16:15:27.365251",
     "exception": false,
     "start_time": "2022-04-20T16:15:27.329196",
     "status": "completed"
    },
    "tags": []
   },
   "outputs": [],
   "source": [
    "#q4.hint()\n",
    "#q4.solution()"
   ]
  },
  {
   "cell_type": "markdown",
   "id": "be4bde9f",
   "metadata": {
    "papermill": {
     "duration": 0.028462,
     "end_time": "2022-04-20T16:15:27.422481",
     "exception": false,
     "start_time": "2022-04-20T16:15:27.394019",
     "status": "completed"
    },
    "tags": []
   },
   "source": [
    "## 5.\n",
    "I'm an economical wine buyer. Which wine is the \"best bargain\"? Create a variable `bargain_wine` with the title of the wine with the highest points-to-price ratio in the dataset."
   ]
  },
  {
   "cell_type": "code",
   "execution_count": 10,
   "id": "77e4a47b",
   "metadata": {
    "execution": {
     "iopub.execute_input": "2022-04-20T16:15:27.481222Z",
     "iopub.status.busy": "2022-04-20T16:15:27.480932Z",
     "iopub.status.idle": "2022-04-20T16:15:27.493697Z",
     "shell.execute_reply": "2022-04-20T16:15:27.492884Z"
    },
    "papermill": {
     "duration": 0.044949,
     "end_time": "2022-04-20T16:15:27.496022",
     "exception": false,
     "start_time": "2022-04-20T16:15:27.451073",
     "status": "completed"
    },
    "tags": []
   },
   "outputs": [
    {
     "data": {
      "application/javascript": [
       "parent.postMessage({\"jupyterEvent\": \"custom.exercise_interaction\", \"data\": {\"outcomeType\": 1, \"valueTowardsCompletion\": 0.14285714285714285, \"interactionType\": 1, \"questionType\": 2, \"questionId\": \"5_BargainWine\", \"learnToolsVersion\": \"0.3.4\", \"failureMessage\": \"\", \"exceptionClass\": \"\", \"trace\": \"\"}}, \"*\")"
      ],
      "text/plain": [
       "<IPython.core.display.Javascript object>"
      ]
     },
     "metadata": {},
     "output_type": "display_data"
    },
    {
     "data": {
      "text/markdown": [
       "<span style=\"color:#33cc33\">Correct</span>"
      ],
      "text/plain": [
       "Correct"
      ]
     },
     "metadata": {},
     "output_type": "display_data"
    }
   ],
   "source": [
    "bargain_idx = (reviews.points / reviews.price).idxmax()\n",
    "bargain_wine = reviews.loc[bargain_idx, 'title']\n",
    "\n",
    "\n",
    "# Check your answer\n",
    "q5.check()"
   ]
  },
  {
   "cell_type": "code",
   "execution_count": 11,
   "id": "cf1557f5",
   "metadata": {
    "execution": {
     "iopub.execute_input": "2022-04-20T16:15:27.558967Z",
     "iopub.status.busy": "2022-04-20T16:15:27.558376Z",
     "iopub.status.idle": "2022-04-20T16:15:27.562111Z",
     "shell.execute_reply": "2022-04-20T16:15:27.561390Z"
    },
    "papermill": {
     "duration": 0.03817,
     "end_time": "2022-04-20T16:15:27.564082",
     "exception": false,
     "start_time": "2022-04-20T16:15:27.525912",
     "status": "completed"
    },
    "tags": []
   },
   "outputs": [],
   "source": [
    "#q5.hint()\n",
    "#q5.solution()"
   ]
  },
  {
   "cell_type": "markdown",
   "id": "da275c8f",
   "metadata": {
    "papermill": {
     "duration": 0.030325,
     "end_time": "2022-04-20T16:15:27.624871",
     "exception": false,
     "start_time": "2022-04-20T16:15:27.594546",
     "status": "completed"
    },
    "tags": []
   },
   "source": [
    "## 6.\n",
    "There are only so many words you can use when describing a bottle of wine. Is a wine more likely to be \"tropical\" or \"fruity\"? Create a Series `descriptor_counts` counting how many times each of these two words appears in the `description` column in the dataset. (For simplicity, let's ignore the capitalized versions of these words.)"
   ]
  },
  {
   "cell_type": "code",
   "execution_count": 12,
   "id": "eb14420a",
   "metadata": {
    "execution": {
     "iopub.execute_input": "2022-04-20T16:15:27.687655Z",
     "iopub.status.busy": "2022-04-20T16:15:27.687059Z",
     "iopub.status.idle": "2022-04-20T16:15:27.840372Z",
     "shell.execute_reply": "2022-04-20T16:15:27.839570Z"
    },
    "papermill": {
     "duration": 0.186924,
     "end_time": "2022-04-20T16:15:27.842570",
     "exception": false,
     "start_time": "2022-04-20T16:15:27.655646",
     "status": "completed"
    },
    "tags": []
   },
   "outputs": [
    {
     "data": {
      "application/javascript": [
       "parent.postMessage({\"jupyterEvent\": \"custom.exercise_interaction\", \"data\": {\"outcomeType\": 1, \"valueTowardsCompletion\": 0.14285714285714285, \"interactionType\": 1, \"questionType\": 1, \"questionId\": \"6_DescriptorCounts\", \"learnToolsVersion\": \"0.3.4\", \"failureMessage\": \"\", \"exceptionClass\": \"\", \"trace\": \"\"}}, \"*\")"
      ],
      "text/plain": [
       "<IPython.core.display.Javascript object>"
      ]
     },
     "metadata": {},
     "output_type": "display_data"
    },
    {
     "data": {
      "text/markdown": [
       "<span style=\"color:#33cc33\">Correct</span>"
      ],
      "text/plain": [
       "Correct"
      ]
     },
     "metadata": {},
     "output_type": "display_data"
    }
   ],
   "source": [
    "n_trop = reviews.description.map(lambda desc: \"tropical\" in desc).sum()\n",
    "n_fruity = reviews.description.map(lambda desc: \"fruity\" in desc).sum()\n",
    "descriptor_counts = pd.Series([n_trop, n_fruity], index=['tropical', 'fruity'])\n",
    "# Check your answer\n",
    "q6.check()"
   ]
  },
  {
   "cell_type": "code",
   "execution_count": 13,
   "id": "3292ab1e",
   "metadata": {
    "execution": {
     "iopub.execute_input": "2022-04-20T16:15:27.906151Z",
     "iopub.status.busy": "2022-04-20T16:15:27.905610Z",
     "iopub.status.idle": "2022-04-20T16:15:27.909117Z",
     "shell.execute_reply": "2022-04-20T16:15:27.908534Z"
    },
    "papermill": {
     "duration": 0.037646,
     "end_time": "2022-04-20T16:15:27.910958",
     "exception": false,
     "start_time": "2022-04-20T16:15:27.873312",
     "status": "completed"
    },
    "tags": []
   },
   "outputs": [],
   "source": [
    "#q6.hint()\n",
    "#q6.solution()"
   ]
  },
  {
   "cell_type": "markdown",
   "id": "292bc38e",
   "metadata": {
    "papermill": {
     "duration": 0.030541,
     "end_time": "2022-04-20T16:15:27.972181",
     "exception": false,
     "start_time": "2022-04-20T16:15:27.941640",
     "status": "completed"
    },
    "tags": []
   },
   "source": [
    "## 7.\n",
    "We'd like to host these wine reviews on our website, but a rating system ranging from 80 to 100 points is too hard to understand - we'd like to translate them into simple star ratings. A score of 95 or higher counts as 3 stars, a score of at least 85 but less than 95 is 2 stars. Any other score is 1 star.\n",
    "\n",
    "Also, the Canadian Vintners Association bought a lot of ads on the site, so any wines from Canada should automatically get 3 stars, regardless of points.\n",
    "\n",
    "Create a series `star_ratings` with the number of stars corresponding to each review in the dataset."
   ]
  },
  {
   "cell_type": "code",
   "execution_count": 14,
   "id": "8f99200d",
   "metadata": {
    "execution": {
     "iopub.execute_input": "2022-04-20T16:15:28.038668Z",
     "iopub.status.busy": "2022-04-20T16:15:28.038129Z",
     "iopub.status.idle": "2022-04-20T16:15:32.939606Z",
     "shell.execute_reply": "2022-04-20T16:15:32.938748Z"
    },
    "papermill": {
     "duration": 4.937066,
     "end_time": "2022-04-20T16:15:32.941925",
     "exception": false,
     "start_time": "2022-04-20T16:15:28.004859",
     "status": "completed"
    },
    "tags": []
   },
   "outputs": [
    {
     "data": {
      "application/javascript": [
       "parent.postMessage({\"jupyterEvent\": \"custom.exercise_interaction\", \"data\": {\"outcomeType\": 1, \"valueTowardsCompletion\": 0.14285714285714285, \"interactionType\": 1, \"questionType\": 1, \"questionId\": \"7_StarRatings\", \"learnToolsVersion\": \"0.3.4\", \"failureMessage\": \"\", \"exceptionClass\": \"\", \"trace\": \"\"}}, \"*\")"
      ],
      "text/plain": [
       "<IPython.core.display.Javascript object>"
      ]
     },
     "metadata": {},
     "output_type": "display_data"
    },
    {
     "data": {
      "text/markdown": [
       "<span style=\"color:#33cc33\">Correct</span>"
      ],
      "text/plain": [
       "Correct"
      ]
     },
     "metadata": {},
     "output_type": "display_data"
    }
   ],
   "source": [
    "def stars(row):\n",
    "    if row.country == 'Canada':\n",
    "        return 3\n",
    "    elif row.points >= 95:\n",
    "        return 3\n",
    "    elif row.points >= 85:\n",
    "        return 2\n",
    "    else:\n",
    "        return 1\n",
    "\n",
    "star_ratings = reviews.apply(stars, axis='columns')\n",
    "# Check your answer\n",
    "q7.check()"
   ]
  },
  {
   "cell_type": "code",
   "execution_count": 15,
   "id": "ce632dee",
   "metadata": {
    "execution": {
     "iopub.execute_input": "2022-04-20T16:15:33.008165Z",
     "iopub.status.busy": "2022-04-20T16:15:33.007612Z",
     "iopub.status.idle": "2022-04-20T16:15:33.011140Z",
     "shell.execute_reply": "2022-04-20T16:15:33.010531Z"
    },
    "papermill": {
     "duration": 0.03916,
     "end_time": "2022-04-20T16:15:33.013066",
     "exception": false,
     "start_time": "2022-04-20T16:15:32.973906",
     "status": "completed"
    },
    "tags": []
   },
   "outputs": [],
   "source": [
    "#q7.hint()\n",
    "#q7.solution()"
   ]
  },
  {
   "cell_type": "markdown",
   "id": "f1236f77",
   "metadata": {
    "papermill": {
     "duration": 0.039774,
     "end_time": "2022-04-20T16:15:33.093282",
     "exception": false,
     "start_time": "2022-04-20T16:15:33.053508",
     "status": "completed"
    },
    "tags": []
   },
   "source": [
    "# Keep going\n",
    "Continue to **[grouping and sorting](https://www.kaggle.com/residentmario/grouping-and-sorting)**."
   ]
  },
  {
   "cell_type": "markdown",
   "id": "4fc2419c",
   "metadata": {
    "papermill": {
     "duration": 0.039641,
     "end_time": "2022-04-20T16:15:33.173331",
     "exception": false,
     "start_time": "2022-04-20T16:15:33.133690",
     "status": "completed"
    },
    "tags": []
   },
   "source": [
    "---\n",
    "\n",
    "\n",
    "\n",
    "\n",
    "*Have questions or comments? Visit the [course discussion forum](https://www.kaggle.com/learn/pandas/discussion) to chat with other learners.*"
   ]
  }
 ],
 "metadata": {
  "kernelspec": {
   "display_name": "Python 3",
   "language": "python",
   "name": "python3"
  },
  "language_info": {
   "codemirror_mode": {
    "name": "ipython",
    "version": 3
   },
   "file_extension": ".py",
   "mimetype": "text/x-python",
   "name": "python",
   "nbconvert_exporter": "python",
   "pygments_lexer": "ipython3",
   "version": "3.7.12"
  },
  "papermill": {
   "default_parameters": {},
   "duration": 25.239282,
   "end_time": "2022-04-20T16:15:33.933888",
   "environment_variables": {},
   "exception": null,
   "input_path": "__notebook__.ipynb",
   "output_path": "__notebook__.ipynb",
   "parameters": {},
   "start_time": "2022-04-20T16:15:08.694606",
   "version": "2.3.4"
  }
 },
 "nbformat": 4,
 "nbformat_minor": 5
}
